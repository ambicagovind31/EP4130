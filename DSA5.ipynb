{
 "cells": [
  {
   "cell_type": "markdown",
   "id": "db33fa2c",
   "metadata": {},
   "source": [
    "## Problem 1"
   ]
  },
  {
   "cell_type": "code",
   "execution_count": 2,
   "id": "56021308",
   "metadata": {},
   "outputs": [],
   "source": [
    "import numpy as np\n",
    "import pandas as pd\n",
    "import scipy.stats as stats\n",
    "import matplotlib.pyplot as plt"
   ]
  },
  {
   "cell_type": "code",
   "execution_count": 3,
   "id": "1085c52d",
   "metadata": {},
   "outputs": [
    {
     "data": {
      "text/html": [
       "<div>\n",
       "<style scoped>\n",
       "    .dataframe tbody tr th:only-of-type {\n",
       "        vertical-align: middle;\n",
       "    }\n",
       "\n",
       "    .dataframe tbody tr th {\n",
       "        vertical-align: top;\n",
       "    }\n",
       "\n",
       "    .dataframe thead th {\n",
       "        text-align: right;\n",
       "    }\n",
       "</style>\n",
       "<table border=\"1\" class=\"dataframe\">\n",
       "  <thead>\n",
       "    <tr style=\"text-align: right;\">\n",
       "      <th></th>\n",
       "      <th>Serial</th>\n",
       "      <th>Asteroid</th>\n",
       "      <th>Dens</th>\n",
       "      <th>Error</th>\n",
       "    </tr>\n",
       "  </thead>\n",
       "  <tbody>\n",
       "    <tr>\n",
       "      <th>0</th>\n",
       "      <td>1</td>\n",
       "      <td>Ceres</td>\n",
       "      <td>2.12</td>\n",
       "      <td>0.04</td>\n",
       "    </tr>\n",
       "    <tr>\n",
       "      <th>1</th>\n",
       "      <td>2</td>\n",
       "      <td>Pallas</td>\n",
       "      <td>2.71</td>\n",
       "      <td>0.11</td>\n",
       "    </tr>\n",
       "    <tr>\n",
       "      <th>2</th>\n",
       "      <td>4</td>\n",
       "      <td>Vesta</td>\n",
       "      <td>3.44</td>\n",
       "      <td>0.12</td>\n",
       "    </tr>\n",
       "    <tr>\n",
       "      <th>3</th>\n",
       "      <td>10</td>\n",
       "      <td>Hygiea</td>\n",
       "      <td>2.76</td>\n",
       "      <td>1.20</td>\n",
       "    </tr>\n",
       "    <tr>\n",
       "      <th>4</th>\n",
       "      <td>11</td>\n",
       "      <td>Parthenope</td>\n",
       "      <td>2.72</td>\n",
       "      <td>0.12</td>\n",
       "    </tr>\n",
       "    <tr>\n",
       "      <th>5</th>\n",
       "      <td>15</td>\n",
       "      <td>Eunomia</td>\n",
       "      <td>0.96</td>\n",
       "      <td>0.30</td>\n",
       "    </tr>\n",
       "    <tr>\n",
       "      <th>6</th>\n",
       "      <td>16</td>\n",
       "      <td>Psyche</td>\n",
       "      <td>2.00</td>\n",
       "      <td>0.60</td>\n",
       "    </tr>\n",
       "    <tr>\n",
       "      <th>7</th>\n",
       "      <td>20</td>\n",
       "      <td>Massalia</td>\n",
       "      <td>3.26</td>\n",
       "      <td>0.60</td>\n",
       "    </tr>\n",
       "    <tr>\n",
       "      <th>8</th>\n",
       "      <td>22</td>\n",
       "      <td>Kalliope</td>\n",
       "      <td>2.50</td>\n",
       "      <td>0.30</td>\n",
       "    </tr>\n",
       "    <tr>\n",
       "      <th>9</th>\n",
       "      <td>45</td>\n",
       "      <td>Eugenia</td>\n",
       "      <td>1.20</td>\n",
       "      <td>0.40</td>\n",
       "    </tr>\n",
       "    <tr>\n",
       "      <th>10</th>\n",
       "      <td>87</td>\n",
       "      <td>Sylvia</td>\n",
       "      <td>1.62</td>\n",
       "      <td>0.30</td>\n",
       "    </tr>\n",
       "    <tr>\n",
       "      <th>11</th>\n",
       "      <td>90</td>\n",
       "      <td>Antiope</td>\n",
       "      <td>1.30</td>\n",
       "      <td>0.00</td>\n",
       "    </tr>\n",
       "    <tr>\n",
       "      <th>12</th>\n",
       "      <td>121</td>\n",
       "      <td>Hermione</td>\n",
       "      <td>1.96</td>\n",
       "      <td>0.34</td>\n",
       "    </tr>\n",
       "    <tr>\n",
       "      <th>13</th>\n",
       "      <td>243</td>\n",
       "      <td>Ida</td>\n",
       "      <td>2.60</td>\n",
       "      <td>0.50</td>\n",
       "    </tr>\n",
       "    <tr>\n",
       "      <th>14</th>\n",
       "      <td>253</td>\n",
       "      <td>Mathilde</td>\n",
       "      <td>1.30</td>\n",
       "      <td>0.20</td>\n",
       "    </tr>\n",
       "    <tr>\n",
       "      <th>15</th>\n",
       "      <td>433</td>\n",
       "      <td>Eros</td>\n",
       "      <td>2.67</td>\n",
       "      <td>0.03</td>\n",
       "    </tr>\n",
       "    <tr>\n",
       "      <th>16</th>\n",
       "      <td>704</td>\n",
       "      <td>Interamnia</td>\n",
       "      <td>4.40</td>\n",
       "      <td>2.10</td>\n",
       "    </tr>\n",
       "    <tr>\n",
       "      <th>17</th>\n",
       "      <td>762</td>\n",
       "      <td>Pulcova</td>\n",
       "      <td>1.80</td>\n",
       "      <td>0.80</td>\n",
       "    </tr>\n",
       "    <tr>\n",
       "      <th>18</th>\n",
       "      <td>804</td>\n",
       "      <td>Hispania</td>\n",
       "      <td>4.90</td>\n",
       "      <td>3.90</td>\n",
       "    </tr>\n",
       "    <tr>\n",
       "      <th>19</th>\n",
       "      <td>1999</td>\n",
       "      <td>KW4</td>\n",
       "      <td>2.39</td>\n",
       "      <td>0.90</td>\n",
       "    </tr>\n",
       "    <tr>\n",
       "      <th>20</th>\n",
       "      <td>2000</td>\n",
       "      <td>DP107</td>\n",
       "      <td>1.62</td>\n",
       "      <td>1.05</td>\n",
       "    </tr>\n",
       "    <tr>\n",
       "      <th>21</th>\n",
       "      <td>2000</td>\n",
       "      <td>UG11</td>\n",
       "      <td>1.47</td>\n",
       "      <td>0.95</td>\n",
       "    </tr>\n",
       "    <tr>\n",
       "      <th>22</th>\n",
       "      <td>854</td>\n",
       "      <td>Frostia</td>\n",
       "      <td>0.89</td>\n",
       "      <td>0.13</td>\n",
       "    </tr>\n",
       "    <tr>\n",
       "      <th>23</th>\n",
       "      <td>1089</td>\n",
       "      <td>Tama</td>\n",
       "      <td>2.52</td>\n",
       "      <td>0.30</td>\n",
       "    </tr>\n",
       "    <tr>\n",
       "      <th>24</th>\n",
       "      <td>1313</td>\n",
       "      <td>Berna</td>\n",
       "      <td>1.21</td>\n",
       "      <td>0.25</td>\n",
       "    </tr>\n",
       "    <tr>\n",
       "      <th>25</th>\n",
       "      <td>4492</td>\n",
       "      <td>Debussy</td>\n",
       "      <td>0.90</td>\n",
       "      <td>0.10</td>\n",
       "    </tr>\n",
       "    <tr>\n",
       "      <th>26</th>\n",
       "      <td>617</td>\n",
       "      <td>Patroclus</td>\n",
       "      <td>0.80</td>\n",
       "      <td>0.15</td>\n",
       "    </tr>\n",
       "  </tbody>\n",
       "</table>\n",
       "</div>"
      ],
      "text/plain": [
       "    Serial    Asteroid  Dens  Error\n",
       "0        1       Ceres  2.12   0.04\n",
       "1        2      Pallas  2.71   0.11\n",
       "2        4       Vesta  3.44   0.12\n",
       "3       10      Hygiea  2.76   1.20\n",
       "4       11  Parthenope  2.72   0.12\n",
       "5       15     Eunomia  0.96   0.30\n",
       "6       16      Psyche  2.00   0.60\n",
       "7       20    Massalia  3.26   0.60\n",
       "8       22    Kalliope  2.50   0.30\n",
       "9       45     Eugenia  1.20   0.40\n",
       "10      87      Sylvia  1.62   0.30\n",
       "11      90     Antiope  1.30   0.00\n",
       "12     121    Hermione  1.96   0.34\n",
       "13     243         Ida  2.60   0.50\n",
       "14     253    Mathilde  1.30   0.20\n",
       "15     433        Eros  2.67   0.03\n",
       "16     704  Interamnia  4.40   2.10\n",
       "17     762     Pulcova  1.80   0.80\n",
       "18     804    Hispania  4.90   3.90\n",
       "19    1999         KW4  2.39   0.90\n",
       "20    2000       DP107  1.62   1.05\n",
       "21    2000        UG11  1.47   0.95\n",
       "22     854     Frostia  0.89   0.13\n",
       "23    1089        Tama  2.52   0.30\n",
       "24    1313       Berna  1.21   0.25\n",
       "25    4492     Debussy  0.90   0.10\n",
       "26     617   Patroclus  0.80   0.15"
      ]
     },
     "execution_count": 3,
     "metadata": {},
     "output_type": "execute_result"
    }
   ],
   "source": [
    "data=pd.read_csv('asteroids.csv')\n",
    "data"
   ]
  },
  {
   "cell_type": "code",
   "execution_count": 4,
   "id": "f221b76b",
   "metadata": {},
   "outputs": [
    {
     "name": "stdout",
     "output_type": "stream",
     "text": [
      "Test statistic for dens: 0.9246721863746643  p-value: 0.051220282912254333\n",
      "Test statistic for logdens: 0.9686306715011597  p-value: 0.5660613775253296\n"
     ]
    }
   ],
   "source": [
    "dens=data['Dens'].to_numpy()\n",
    "logdens=np.log(dens)\n",
    "\n",
    "stat,p=stats.shapiro(dens)\n",
    "stat2,p2=stats.shapiro(logdens)\n",
    "\n",
    "print('Test statistic for dens:',stat,' p-value:',p)\n",
    "print('Test statistic for logdens:',stat2,' p-value:',p2)"
   ]
  },
  {
   "cell_type": "markdown",
   "id": "1a2e7b02",
   "metadata": {},
   "source": [
    "From the p-values it appears that the logarithm is closer to normality. The same can be observed in the following set of histograms."
   ]
  },
  {
   "cell_type": "code",
   "execution_count": 13,
   "id": "e1cab4dd",
   "metadata": {},
   "outputs": [
    {
     "data": {
      "text/plain": [
       "<matplotlib.legend.Legend at 0x7f1d1e18f550>"
      ]
     },
     "execution_count": 13,
     "metadata": {},
     "output_type": "execute_result"
    },
    {
     "data": {
      "image/png": "[encoded data removed]",
      "text/plain": [
       "<Figure size 1800x500 with 2 Axes>"
      ]
     },
     "metadata": {},
     "output_type": "display_data"
    }
   ],
   "source": [
    "def gauss(x,mu,sigma):\n",
    "    return 1/np.sqrt(2*np.pi*sigma**2)*np.exp(-(x-mu)**2/2/sigma/sigma)\n",
    "x=np.linspace(min(dens)-2,max(dens)+1,100)\n",
    "x2=np.linspace(min(logdens)-1,max(logdens)+1,100)\n",
    "\n",
    "fig,ax=plt.subplots(1,2,figsize=(18,5))\n",
    "ax[0].hist(dens,bins=4,density=True,color='plum',label='Histogram of Asteroid Density')\n",
    "params=stats.norm.fit(dens)\n",
    "ax[0].plot(x,gauss(x,params[0],params[1]),linewidth=4,color='crimson',label='Best fit gaussian')\n",
    "ax[0].legend(frameon=False)\n",
    "\n",
    "ax[1].hist(logdens,bins=4,density=True,color='plum',label='Histogram of log DEnsity')\n",
    "params=stats.norm.fit(logdens)\n",
    "ax[1].plot(x2,gauss(x2,params[0],params[1]),linewidth=4,color='crimson',label='Best fit gaussian')\n",
    "ax[1].legend(frameon=False)"
   ]
  },
  {
   "cell_type": "markdown",
   "id": "be974ab1",
   "metadata": {},
   "source": [
    "## Problem 2"
   ]
  },
  {
   "cell_type": "code",
   "execution_count": 19,
   "id": "868e93c2",
   "metadata": {},
   "outputs": [
    {
     "data": {
      "text/plain": [
       "array([[            nan,             nan,             nan, ...,\n",
       "                    nan,             nan,             nan],\n",
       "       [ 2.00000000e+00,  9.27000000e+00,  3.79700000e-03, ...,\n",
       "        -9.30000000e-01,  3.10000000e+00,  9.99000000e-01],\n",
       "       [ 3.80000000e+01,  8.65000000e+00,  1.11047000e-01, ...,\n",
       "        -6.24000000e+01,  7.80000000e-01,  7.78000000e-01],\n",
       "       ...,\n",
       "       [ 1.18251000e+05,  8.16000000e+00,  3.59778318e+02, ...,\n",
       "         3.56000000e+00,  8.20000000e-01,  6.52000000e-01],\n",
       "       [ 1.18254000e+05,  7.72000000e+00,  3.59787381e+02, ...,\n",
       "         4.40000000e+00,  8.00000000e-01,  5.63000000e-01],\n",
       "       [ 1.18311000e+05,  1.18500000e+01,  3.59954685e+02, ...,\n",
       "        -1.12810000e+02,  2.96000000e+00,  1.39100000e+00]])"
      ]
     },
     "execution_count": 19,
     "metadata": {},
     "output_type": "execute_result"
    }
   ],
   "source": [
    "data=np.genfromtxt('hipparcos.dat')\n",
    "data"
   ]
  },
  {
   "cell_type": "code",
   "execution_count": 20,
   "id": "d82df419",
   "metadata": {},
   "outputs": [],
   "source": [
    "data=data[1:]"
   ]
  },
  {
   "cell_type": "code",
   "execution_count": 21,
   "id": "83eb44c8",
   "metadata": {},
   "outputs": [
    {
     "data": {
      "text/plain": [
       "array([[ 2.00000000e+00,  9.27000000e+00,  3.79700000e-03, ...,\n",
       "        -9.30000000e-01,  3.10000000e+00,  9.99000000e-01],\n",
       "       [ 3.80000000e+01,  8.65000000e+00,  1.11047000e-01, ...,\n",
       "        -6.24000000e+01,  7.80000000e-01,  7.78000000e-01],\n",
       "       [ 4.70000000e+01,  1.07800000e+01,  1.35192000e-01, ...,\n",
       "        -1.45900000e+02,  1.97000000e+00,  1.15000000e+00],\n",
       "       ...,\n",
       "       [ 1.18251000e+05,  8.16000000e+00,  3.59778318e+02, ...,\n",
       "         3.56000000e+00,  8.20000000e-01,  6.52000000e-01],\n",
       "       [ 1.18254000e+05,  7.72000000e+00,  3.59787381e+02, ...,\n",
       "         4.40000000e+00,  8.00000000e-01,  5.63000000e-01],\n",
       "       [ 1.18311000e+05,  1.18500000e+01,  3.59954685e+02, ...,\n",
       "        -1.12810000e+02,  2.96000000e+00,  1.39100000e+00]])"
      ]
     },
     "execution_count": 21,
     "metadata": {},
     "output_type": "execute_result"
    }
   ],
   "source": [
    "data"
   ]
  },
  {
   "cell_type": "code",
   "execution_count": 39,
   "id": "6bbe13ac",
   "metadata": {},
   "outputs": [],
   "source": [
    "hyades=[]\n",
    "nonhyades=[]\n",
    "for i in range(len(data)):\n",
    "    if (50<data[i][2]<100) and (0<data[i][3]<25) and (90<data[i][5]<130) and (-60<data[i][6]<-10):\n",
    "        hyades.append(data[i])\n",
    "    else:\n",
    "        nonhyades.append(data[i])"
   ]
  },
  {
   "cell_type": "code",
   "execution_count": 40,
   "id": "2c260c3c",
   "metadata": {},
   "outputs": [
    {
     "name": "stdout",
     "output_type": "stream",
     "text": [
      "-3.8604369218609285 0.0001158222219244154\n"
     ]
    }
   ],
   "source": [
    "t,p = stats.ttest_ind(hyades,nonhyades)\n",
    "print(t[-1],p[-1])"
   ]
  },
  {
   "cell_type": "markdown",
   "id": "7e915812",
   "metadata": {},
   "source": [
    "The p-value here is very less so we need to reject the null hypothesis that Hyades and non Hyades star indeed have the same colour. They don't."
   ]
  },
  {
   "cell_type": "markdown",
   "id": "b8f50fb4",
   "metadata": {},
   "source": [
    "## Problem 3"
   ]
  },
  {
   "cell_type": "code",
   "execution_count": 55,
   "id": "1d8ae5b4",
   "metadata": {},
   "outputs": [
    {
     "data": {
      "text/plain": [
       "array([0.47712125, 1.04139269, 1.14612804, ..., 2.0374265 , 0.64836001,\n",
       "       1.5563025 ])"
      ]
     },
     "execution_count": 55,
     "metadata": {},
     "output_type": "execute_result"
    }
   ],
   "source": [
    "data=np.log10(np.loadtxt('bepposax.dat'))\n",
    "data"
   ]
  },
  {
   "cell_type": "code",
   "execution_count": 60,
   "id": "4790d1e1",
   "metadata": {},
   "outputs": [
    {
     "data": {
      "text/plain": [
       "<matplotlib.legend.Legend at 0x7f1d14298fd0>"
      ]
     },
     "execution_count": 60,
     "metadata": {},
     "output_type": "execute_result"
    },
    {
     "data": {
      "image/png": "[encoded data removed]",
      "text/plain": [
       "<Figure size 640x480 with 1 Axes>"
      ]
     },
     "metadata": {},
     "output_type": "display_data"
    }
   ],
   "source": [
    "from sklearn.mixture import GaussianMixture\n",
    "\n",
    "N = np.arange(1, 14)\n",
    "data=data.reshape(-1,1)\n",
    "\n",
    "def compute_GaussianMixture(N, covariance_type='full', max_iter=1000):\n",
    "    models = [None for n in N]\n",
    "    for i in range(len(N)):\n",
    "        models[i] = GaussianMixture(n_components=N[i], max_iter=max_iter,covariance_type=covariance_type)\n",
    "        models[i].fit(data)\n",
    "    return models\n",
    "\n",
    "models = compute_GaussianMixture(N)\n",
    "\n",
    "AIC = [m.aic(data) for m in models]\n",
    "BIC = [m.bic(data) for m in models]\n",
    "\n",
    "fig,ax=plt.subplots()\n",
    "ax.scatter(N,AIC,color='cornflowerblue')\n",
    "ax.scatter(N,BIC,color='turquoise')\n",
    "ax.plot(N,AIC,color='cornflowerblue',label='AIC')\n",
    "ax.plot(N,BIC,color='turquoise',label='BIC')\n",
    "ax.set_xlabel('No of components')\n",
    "ax.grid()\n",
    "ax.legend()"
   ]
  },
  {
   "cell_type": "markdown",
   "id": "de1760ac",
   "metadata": {},
   "source": [
    "Clearly the minimum here is attained with a 2 component model, and thats the optimum number of Gaussian components that fits the data best."
   ]
  },
  {
   "cell_type": "code",
   "execution_count": null,
   "id": "6cb6fff8",
   "metadata": {},
   "outputs": [],
   "source": []
  }
 ],
 "metadata": {
  "kernelspec": {
   "display_name": "Python 3 (ipykernel)",
   "language": "python",
   "name": "python3"
  },
  "language_info": {
   "codemirror_mode": {
    "name": "ipython",
    "version": 3
   },
   "file_extension": ".py",
   "mimetype": "text/x-python",
   "name": "python",
   "nbconvert_exporter": "python",
   "pygments_lexer": "ipython3",
   "version": "3.8.10"
  }
 },
 "nbformat": 4,
 "nbformat_minor": 5
}
